{
 "cells": [
  {
   "cell_type": "markdown",
   "metadata": {},
   "source": [
    "# Chapter-6: Fruitful functions"
   ]
  },
  {
   "cell_type": "markdown",
   "metadata": {},
   "source": [
    "### 6.1 Return values"
   ]
  },
  {
   "cell_type": "code",
   "execution_count": 3,
   "metadata": {},
   "outputs": [
    {
     "name": "stdout",
     "output_type": "stream",
     "text": [
      "2.718281828459045\n"
     ]
    }
   ],
   "source": [
    "import math\n",
    "\n",
    "e = math.exp(1.0)\n",
    "print(e)"
   ]
  },
  {
   "cell_type": "code",
   "execution_count": 8,
   "metadata": {},
   "outputs": [
    {
     "data": {
      "text/plain": [
       "78.53981633974483"
      ]
     },
     "execution_count": 8,
     "metadata": {},
     "output_type": "execute_result"
    }
   ],
   "source": [
    "def area(radius):\n",
    "    a = math.pi*radius**2\n",
    "    return a\n",
    "\n",
    "area(5)"
   ]
  },
  {
   "cell_type": "code",
   "execution_count": 10,
   "metadata": {},
   "outputs": [
    {
     "data": {
      "text/plain": [
       "78.53981633974483"
      ]
     },
     "execution_count": 10,
     "metadata": {},
     "output_type": "execute_result"
    }
   ],
   "source": [
    "def area(radius):\n",
    "    return math.pi*radius**2\n",
    "\n",
    "area(5)"
   ]
  },
  {
   "cell_type": "code",
   "execution_count": 24,
   "metadata": {},
   "outputs": [
    {
     "name": "stdout",
     "output_type": "stream",
     "text": [
      "9\n"
     ]
    }
   ],
   "source": [
    "def absolute_value(x):\n",
    "    if x < 0:\n",
    "        return -x\n",
    "    else:\n",
    "        return x\n",
    "    \n",
    "print(absolute_value(-9))"
   ]
  },
  {
   "cell_type": "code",
   "execution_count": 25,
   "metadata": {},
   "outputs": [
    {
     "name": "stdout",
     "output_type": "stream",
     "text": [
      "None\n"
     ]
    }
   ],
   "source": [
    "# An incorrect function\n",
    "\n",
    "def absolute_value(x):\n",
    "    if x < 0:\n",
    "        return -x\n",
    "    if x > 0:\n",
    "        return x\n",
    "    \n",
    "print(absolute_value(0))"
   ]
  },
  {
   "cell_type": "code",
   "execution_count": 30,
   "metadata": {},
   "outputs": [
    {
     "name": "stdout",
     "output_type": "stream",
     "text": [
      "-1\n"
     ]
    }
   ],
   "source": [
    "def compare_numbers(x, y):\n",
    "    if x > y:\n",
    "        return 1\n",
    "    elif x == y:\n",
    "        return 0\n",
    "    else:\n",
    "        return -1\n",
    "    \n",
    "print(compare_numbers(6, 8))\n",
    "    "
   ]
  },
  {
   "cell_type": "markdown",
   "metadata": {},
   "source": [
    "### 6.2 Incremental development"
   ]
  },
  {
   "cell_type": "code",
   "execution_count": 39,
   "metadata": {},
   "outputs": [
    {
     "name": "stdout",
     "output_type": "stream",
     "text": [
      "dx is 3\n",
      "dy is 4\n",
      "dsquared is 25\n",
      "result is 5.0\n"
     ]
    },
    {
     "data": {
      "text/plain": [
       "5.0"
      ]
     },
     "execution_count": 39,
     "metadata": {},
     "output_type": "execute_result"
    }
   ],
   "source": [
    "# Building a function through scaffolding\n",
    "def distance(x1, y1, x2, y2):\n",
    "    \n",
    "    dx = x2 - x1\n",
    "    dy = y2 - y1\n",
    "    \n",
    "    print('dx is', dx)\n",
    "    print('dy is', dy)\n",
    "    \n",
    "    dsquared = dx**2 + dy**2\n",
    "    print('dsquared is', dsquared)\n",
    "    \n",
    "    result = math.sqrt(dsquared)\n",
    "    print('result is', result)\n",
    "    \n",
    "    return result\n",
    "\n",
    "distance(1, 2, 4, 6)"
   ]
  },
  {
   "cell_type": "code",
   "execution_count": 40,
   "metadata": {},
   "outputs": [
    {
     "data": {
      "text/plain": [
       "5.0"
      ]
     },
     "execution_count": 40,
     "metadata": {},
     "output_type": "execute_result"
    }
   ],
   "source": [
    "def distance(x1, y1, x2, y2):\n",
    "    \n",
    "    dx = x2 - x1\n",
    "    dy = y2 - y1\n",
    "    \n",
    "    dsquared = dx**2 + dy**2\n",
    "    \n",
    "    result = math.sqrt(dsquared)\n",
    "    \n",
    "    return result\n",
    "\n",
    "distance(1, 2, 4, 6)"
   ]
  },
  {
   "cell_type": "code",
   "execution_count": 41,
   "metadata": {},
   "outputs": [
    {
     "data": {
      "text/plain": [
       "5.0"
      ]
     },
     "execution_count": 41,
     "metadata": {},
     "output_type": "execute_result"
    }
   ],
   "source": [
    "# Example of incremental development\n",
    "\n",
    "def hypotenuse(a, b):\n",
    "    sum_squares = a**2 + b**2\n",
    "    result = math.sqrt(sum_squares)\n",
    "    \n",
    "    return result\n",
    "\n",
    "hypotenuse(3, 4)"
   ]
  },
  {
   "cell_type": "markdown",
   "metadata": {},
   "source": [
    "### 6.3 Composition"
   ]
  },
  {
   "cell_type": "code",
   "execution_count": 43,
   "metadata": {},
   "outputs": [
    {
     "name": "stdout",
     "output_type": "stream",
     "text": [
      "1256.6370614359173\n"
     ]
    }
   ],
   "source": [
    "def area_circle(xc, yc, xp, yp):\n",
    "    \n",
    "    radius = ((xc-xp)**2) + ((yc-yp)**2)\n",
    "    area = math.pi * radius**2\n",
    "    \n",
    "    return area\n",
    "\n",
    "print(area_circle(6, 4, 2, 2))"
   ]
  },
  {
   "cell_type": "code",
   "execution_count": 52,
   "metadata": {},
   "outputs": [
    {
     "name": "stdout",
     "output_type": "stream",
     "text": [
      "False\n",
      "True\n"
     ]
    }
   ],
   "source": [
    "def is_divisible(x, y):\n",
    "    \n",
    "    if x%y == 0:\n",
    "        return True\n",
    "    else:\n",
    "        return False\n",
    "    \n",
    "print(is_divisible(7, 3))\n",
    "print(is_divisible(6, 3))"
   ]
  },
  {
   "cell_type": "code",
   "execution_count": 51,
   "metadata": {},
   "outputs": [
    {
     "name": "stdout",
     "output_type": "stream",
     "text": [
      "False\n",
      "True\n"
     ]
    }
   ],
   "source": [
    "def is_divisible(x, y):\n",
    "    return x%y == 0\n",
    "\n",
    "print(is_divisible(7, 3))\n",
    "print(is_divisible(6, 3))"
   ]
  },
  {
   "cell_type": "code",
   "execution_count": 59,
   "metadata": {},
   "outputs": [
    {
     "name": "stdout",
     "output_type": "stream",
     "text": [
      "False\n",
      "True\n"
     ]
    }
   ],
   "source": [
    "# write a function is_between(x, y, z) that returns True if x ≤ y ≤ z or False otherwise.\n",
    "\n",
    "def is_between(x, y, z):\n",
    "    return x <= y <= z\n",
    "\n",
    "print(is_between(9,3,4))\n",
    "print(is_between(2,3,4))"
   ]
  },
  {
   "cell_type": "markdown",
   "metadata": {},
   "source": [
    "### 6.5 More recursion"
   ]
  },
  {
   "cell_type": "code",
   "execution_count": 110,
   "metadata": {},
   "outputs": [
    {
     "name": "stdout",
     "output_type": "stream",
     "text": [
      "6\n",
      "1\n"
     ]
    }
   ],
   "source": [
    "def factorial(n):\n",
    "    if n == 0:\n",
    "        return 1\n",
    "    elif n > 0:\n",
    "        recurse = factorial(n-1)\n",
    "        result = n*recurse\n",
    "        return result\n",
    "\n",
    "print(factorial(3))\n",
    "print(factorial(0))"
   ]
  },
  {
   "cell_type": "code",
   "execution_count": 111,
   "metadata": {},
   "outputs": [
    {
     "name": "stdout",
     "output_type": "stream",
     "text": [
      "6\n",
      "1\n",
      "120\n",
      "1\n",
      "negative number\n"
     ]
    }
   ],
   "source": [
    "def factorial(n):\n",
    "    if n == 0:\n",
    "        return 1\n",
    "    elif n > 0:\n",
    "        result = 1\n",
    "        for i in range(n):\n",
    "            result = result*n\n",
    "            n = n-1\n",
    "        return result\n",
    "    else:\n",
    "        return \"negative number\"\n",
    "\n",
    "print(factorial(3))\n",
    "print(factorial(0))\n",
    "print(factorial(5))\n",
    "print(factorial(1))\n",
    "print(factorial(-4))"
   ]
  },
  {
   "cell_type": "markdown",
   "metadata": {},
   "source": [
    "### 6.6 Leap of faith"
   ]
  },
  {
   "cell_type": "markdown",
   "metadata": {},
   "source": [
    "### 6.7 One more example"
   ]
  },
  {
   "cell_type": "markdown",
   "metadata": {},
   "source": [
    "After factorial, the most common example of a recursively defined mathematical function is fibonacci, which has the following definition (see http://en.wikipedia.org/wiki/Fibonacci_number):\n",
    "\n",
    " \t \tfibonacci(0) = 0 \n",
    " \t \tfibonacci(1) = 1 \n",
    " \t \tfibonacci(n) = fibonacci(n−1) + fibonacci(n−2)\n",
    "Translated into Python, it looks like this:"
   ]
  },
  {
   "cell_type": "code",
   "execution_count": 112,
   "metadata": {},
   "outputs": [
    {
     "name": "stdout",
     "output_type": "stream",
     "text": [
      "6765\n"
     ]
    }
   ],
   "source": [
    "def fibonacci(n):\n",
    "    if n == 0:\n",
    "        return 0\n",
    "    elif  n == 1:\n",
    "        return 1\n",
    "    else:\n",
    "        return fibonacci(n-1) + fibonacci(n-2)\n",
    "\n",
    "print(fibonacci(20))"
   ]
  },
  {
   "cell_type": "code",
   "execution_count": 113,
   "metadata": {},
   "outputs": [
    {
     "name": "stdout",
     "output_type": "stream",
     "text": [
      "[0, 1, 1, 2, 3, 5, 8, 13, 21, 34, 55, 89, 144, 233, 377, 610, 987, 1597, 2584, 4181, 6765]\n"
     ]
    }
   ],
   "source": [
    "def fibonacci(n):\n",
    "    if n == 0:\n",
    "        return 0\n",
    "    elif n == 1:\n",
    "        return 1\n",
    "    else:\n",
    "        k = 0\n",
    "        list = [0, 1]\n",
    "        for i in range(n-1):\n",
    "            result = list[k] + list[k+1]\n",
    "            list.append(result)\n",
    "            k = k+1\n",
    "        return list\n",
    "\n",
    "print(fibonacci(20))"
   ]
  },
  {
   "cell_type": "markdown",
   "metadata": {},
   "source": [
    "### 6.8 Checking Types"
   ]
  },
  {
   "cell_type": "code",
   "execution_count": 115,
   "metadata": {},
   "outputs": [
    {
     "data": {
      "text/plain": [
       "120"
      ]
     },
     "execution_count": 115,
     "metadata": {},
     "output_type": "execute_result"
    }
   ],
   "source": [
    "def factorial(n):\n",
    "    if not isinstance(n, int):\n",
    "        print('Factorial is only defined for integers.')\n",
    "        return None\n",
    "    elif n < 0:\n",
    "        print('Factorial is not defined for negative integers.')\n",
    "        return None\n",
    "    elif n == 0:\n",
    "        return 1\n",
    "    else:\n",
    "        return n * factorial(n-1)\n",
    "\n",
    "factorial(5)"
   ]
  },
  {
   "cell_type": "code",
   "execution_count": 117,
   "metadata": {},
   "outputs": [
    {
     "name": "stdout",
     "output_type": "stream",
     "text": [
      "Factorial is not defined for negative numbers\n",
      "None\n",
      "120\n",
      "1\n",
      "Factorial is for integers only\n",
      "None\n"
     ]
    }
   ],
   "source": [
    "def factorial(n):\n",
    "    \n",
    "    if not isinstance(n, int):\n",
    "        return print(\"Factorial is for integers only\")\n",
    "    elif n < 0:\n",
    "        return print(\"Factorial is not defined for negative numbers\")\n",
    "    elif n == 0:\n",
    "        return 1\n",
    "    elif n > 0:\n",
    "        result = 1\n",
    "        for i in range(n):\n",
    "            result = result*n\n",
    "            n = n-1\n",
    "        return result\n",
    "    else:\n",
    "        return \"negative number\"\n",
    "    \n",
    "print(factorial(-5))\n",
    "print(factorial(5))\n",
    "print(factorial(0))\n",
    "print(factorial(1.5))"
   ]
  },
  {
   "cell_type": "markdown",
   "metadata": {},
   "source": [
    "### 6.9 Debugging"
   ]
  },
  {
   "cell_type": "markdown",
   "metadata": {},
   "source": [
    "### 6.10 Glossary"
   ]
  },
  {
   "cell_type": "markdown",
   "metadata": {},
   "source": [
    "### 6.11 Exercises"
   ]
  },
  {
   "cell_type": "markdown",
   "metadata": {},
   "source": [
    "#### Exercise-1 "
   ]
  },
  {
   "cell_type": "code",
   "execution_count": 122,
   "metadata": {},
   "outputs": [
    {
     "name": "stdout",
     "output_type": "stream",
     "text": [
      "81\n"
     ]
    }
   ],
   "source": [
    "def b(z):\n",
    "    prod = a(z, z)\n",
    "    print(z, prod)\n",
    "    return prod\n",
    "\n",
    "def a(x, y):\n",
    "    x = x+1\n",
    "    return x*y\n",
    "\n",
    "def c(x, y, z):\n",
    "    total = x+y+z\n",
    "    square = total**2\n",
    "    return square\n",
    "\n",
    "x = 1\n",
    "y = x+1\n",
    "print(c(x, y+3, x+y))"
   ]
  },
  {
   "cell_type": "markdown",
   "metadata": {},
   "source": [
    "#### Exercise-2\n",
    "The Ackermann function, A(m, n), is defined:\n",
    "\n",
    "A(m, n) =  n+1\t                 if  m = 0 \n",
    "              \n",
    "A(m, n) =  A(m−1, 1)\t         if  m > 0  and  n = 0 \n",
    "              \n",
    "A(m, n) =  A(m−1, A(m, n−1))\t if  m > 0  and  n > 0\t\n",
    "        \n",
    "              \n",
    "See http://en.wikipedia.org/wiki/Ackermann_function\n",
    "Write a function named ack that evaluates the Ackermann function. Use your function to evaluate ack(3, 4), which should be 125. What happens for larger values of m and n? \n",
    "\n",
    "Solution: http://thinkpython2.com/code/ackermann.py         "
   ]
  },
  {
   "cell_type": "code",
   "execution_count": 131,
   "metadata": {},
   "outputs": [
    {
     "name": "stdout",
     "output_type": "stream",
     "text": [
      "4\n",
      "5\n",
      "125\n"
     ]
    }
   ],
   "source": [
    "def ack(m, n):\n",
    "    if m == 0:\n",
    "        return n+1\n",
    "    elif m > 0 and n == 0:\n",
    "        return ack(m-1, 1)\n",
    "    elif m > 0 and n > 0:\n",
    "        return ack(m-1, ack(m, n-1))\n",
    "    \n",
    "print(ack(0, 3))\n",
    "print(ack(3, 0))\n",
    "print(ack(3, 4))"
   ]
  },
  {
   "cell_type": "markdown",
   "metadata": {},
   "source": [
    "#### Exercise-3\n",
    "A palindrome is a word that is spelled the same backward and forward, like “noon”\n",
    "and “redivider”. Recursively, a word is a palindrome if the first and last letters are the same and the\n",
    "middle is a palindrome."
   ]
  },
  {
   "cell_type": "code",
   "execution_count": 140,
   "metadata": {},
   "outputs": [],
   "source": [
    "# The following are functions that take a string argument and return the first, last, and middle letters:\n",
    "\n",
    "def first(word):\n",
    "    return word[0]\n",
    "\n",
    "def last(word):\n",
    "    return word[-1]\n",
    "\n",
    "def middle(word):\n",
    "    return word[1:-1]"
   ]
  },
  {
   "cell_type": "markdown",
   "metadata": {},
   "source": [
    "1. Type these functions into a file named palindrome.py and test them out. What happens if\n",
    "you call middle with a string with two letters? One letter? What about the empty string,\n",
    "which is written '' and contains no letters?\n",
    "\n",
    "2. Write a function called is_palindrome that takes a string argument and returns True if it\n",
    "is a palindrome and False otherwise. Remember that you can use the built-in function len\n",
    "to check the length of a string."
   ]
  },
  {
   "cell_type": "code",
   "execution_count": 218,
   "metadata": {},
   "outputs": [
    {
     "name": "stdout",
     "output_type": "stream",
     "text": [
      "Length of the word is 9\n",
      "['True', 'True', 'True', 'True', 'True', 'True', 'True', 'True', 'True']\n",
      "All 'True' means the word is a palindrome\n",
      "None\n",
      "-------------------------\n",
      "Length of the word is 8\n",
      "['False', 'False', 'False', 'False', 'False', 'False', 'False', 'False']\n",
      "Atleast one 'Flase' means the word is not palindrome\n",
      "None\n",
      "-------------------------\n",
      "Length of the word is 8\n",
      "['True', 'True', 'True', 'True', 'True', 'True', 'True', 'True']\n",
      "All 'True' means the word is a palindrome\n",
      "None\n"
     ]
    }
   ],
   "source": [
    "def is_palindrome(word):\n",
    "    \n",
    "    length = len(word)\n",
    "    print(\"Length of the word is\", length)\n",
    "    \n",
    "    list = []\n",
    "    for i in range(0, length):\n",
    "        if word[i] == word[length-(i+1)]:\n",
    "            result = \"True\"\n",
    "        else:\n",
    "            result = \"False\"\n",
    "        list.append(result)\n",
    "        i = i+1\n",
    "        \n",
    "    print(list)\n",
    "    if \"False\" in list:\n",
    "        print(\"Atleast one 'Flase' means the word is not palindrome\")\n",
    "    else:\n",
    "        print(\"All 'True' means the word is a palindrome\")\n",
    "\n",
    "print(is_palindrome(\"malayalam\"))\n",
    "print(\"-------------------------\")\n",
    "print(is_palindrome(\"surendra\"))\n",
    "print(\"-------------------------\")\n",
    "print(is_palindrome(\"sureerus\"))"
   ]
  },
  {
   "cell_type": "markdown",
   "metadata": {},
   "source": [
    "#### Exercise-4\n",
    "A number, a, is a power of b if it is divisible by b and a/b is a power of b. Write a\n",
    "function called is_power that takes parameters a and b and returns True if a is a power of b. Note:\n",
    "you will have to think about the base case."
   ]
  },
  {
   "cell_type": "code",
   "execution_count": 224,
   "metadata": {},
   "outputs": [
    {
     "name": "stdout",
     "output_type": "stream",
     "text": [
      "'a' is not a power of 'b'\n",
      "'a' is a power of 'b'\n"
     ]
    }
   ],
   "source": [
    "def is_power(a, b):\n",
    "    if a%b == 0:\n",
    "        print(\"'a' is a power of 'b'\")\n",
    "    else:\n",
    "        print(\"'a' is not a power of 'b'\")\n",
    "\n",
    "is_power(4,3)\n",
    "is_power(4,2)"
   ]
  },
  {
   "cell_type": "markdown",
   "metadata": {},
   "source": [
    "#### Exercise-5 \n",
    "The greatest common divisor (GCD) of a and b is the largest number that divides both of them with no remainder.\n",
    "One way to find the GCD of two numbers is based on the observation that if r is the remainder when\n",
    "a is divided by b, then gcd(a, b) = gcd(b, r). As a base case, we can use gcd(a, 0) = a.\n",
    "Write a function called gcd that takes parameters a and b and returns their greatest common divisor.\n",
    "\n",
    "Credit: This exercise is based on an example from Abelson and Sussman’s Structure and Interpretation\n",
    "of Computer Programs."
   ]
  },
  {
   "cell_type": "code",
   "execution_count": 231,
   "metadata": {},
   "outputs": [
    {
     "name": "stdout",
     "output_type": "stream",
     "text": [
      "None\n"
     ]
    }
   ],
   "source": [
    "def gcd(a, b):\n",
    "    if a > b:\n",
    "        r = a%b\n",
    "        if r != 0:\n",
    "            result = gcd(b, r)\n",
    "            return result\n",
    "    if b > a:\n",
    "        r = b%a\n",
    "        if r != 0:\n",
    "            result = gcd(a, r)\n",
    "            return result\n",
    "    \n",
    "print(gcd(16, 24)) "
   ]
  },
  {
   "cell_type": "code",
   "execution_count": 227,
   "metadata": {},
   "outputs": [
    {
     "name": "stdout",
     "output_type": "stream",
     "text": [
      "8\n"
     ]
    }
   ],
   "source": [
    "a = 16\n",
    "b = 24\n",
    "\n",
    "r = b%a\n",
    "print(r)"
   ]
  },
  {
   "cell_type": "code",
   "execution_count": 241,
   "metadata": {},
   "outputs": [
    {
     "name": "stdout",
     "output_type": "stream",
     "text": [
      "24\n",
      "15\n",
      "30\n"
     ]
    }
   ],
   "source": [
    "def gcd(a, b):\n",
    "    if a > b:\n",
    "        if (b==0):\n",
    "            return a\n",
    "        else:\n",
    "            return gcd(a, a%b)\n",
    " \n",
    "    if b > a:\n",
    "        if (a==0):\n",
    "            return b\n",
    "        else:\n",
    "            return gcd(b, b%a)\n",
    "\n",
    "print(gcd(16, 24))\n",
    "print(gcd(5, 15))\n",
    "print(gcd(30, 12))"
   ]
  }
 ],
 "metadata": {
  "kernelspec": {
   "display_name": "Python 3",
   "language": "python",
   "name": "python3"
  },
  "language_info": {
   "codemirror_mode": {
    "name": "ipython",
    "version": 3
   },
   "file_extension": ".py",
   "mimetype": "text/x-python",
   "name": "python",
   "nbconvert_exporter": "python",
   "pygments_lexer": "ipython3",
   "version": "3.6.8"
  }
 },
 "nbformat": 4,
 "nbformat_minor": 2
}
