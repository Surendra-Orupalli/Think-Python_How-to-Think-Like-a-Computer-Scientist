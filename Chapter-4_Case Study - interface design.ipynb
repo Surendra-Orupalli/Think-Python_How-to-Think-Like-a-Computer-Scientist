{
 "cells": [
  {
   "cell_type": "markdown",
   "metadata": {},
   "source": [
    "# Chapter-4: Case Study - interface design "
   ]
  },
  {
   "cell_type": "markdown",
   "metadata": {},
   "source": [
    "### 4.1 The turtle module"
   ]
  },
  {
   "cell_type": "code",
   "execution_count": 150,
   "metadata": {},
   "outputs": [],
   "source": [
    "import turtle"
   ]
  },
  {
   "cell_type": "code",
   "execution_count": 151,
   "metadata": {},
   "outputs": [],
   "source": [
    "bob = turtle.Pen()\n",
    "turtle.resetscreen()"
   ]
  },
  {
   "cell_type": "code",
   "execution_count": 152,
   "metadata": {},
   "outputs": [],
   "source": [
    "bob.fd(100)"
   ]
  },
  {
   "cell_type": "code",
   "execution_count": 159,
   "metadata": {},
   "outputs": [],
   "source": [
    "bob.fd(100)\n",
    "bob.lt(90)\n",
    "bob.fd(100)"
   ]
  },
  {
   "cell_type": "markdown",
   "metadata": {},
   "source": [
    "### 4.2 Simple repetition"
   ]
  },
  {
   "cell_type": "code",
   "execution_count": 160,
   "metadata": {},
   "outputs": [],
   "source": [
    "bob.fd(100)\n",
    "bob.lt(90)\n",
    "\n",
    "bob.fd(100)\n",
    "bob.lt(90)\n",
    "\n",
    "bob.fd(100)\n",
    "bob.lt(90)\n",
    "\n",
    "bob.fd(100)"
   ]
  },
  {
   "cell_type": "code",
   "execution_count": 161,
   "metadata": {},
   "outputs": [
    {
     "name": "stdout",
     "output_type": "stream",
     "text": [
      "Hello\n",
      "Hello\n",
      "Hello\n",
      "Hello\n"
     ]
    }
   ],
   "source": [
    "for i in range(4):\n",
    "    print(\"Hello\")"
   ]
  },
  {
   "cell_type": "code",
   "execution_count": 162,
   "metadata": {},
   "outputs": [],
   "source": [
    "for i in range(4):\n",
    "    bob.fd(100)\n",
    "    bob.lt(90)"
   ]
  },
  {
   "cell_type": "markdown",
   "metadata": {},
   "source": [
    "### 4.3 Exercises"
   ]
  },
  {
   "cell_type": "code",
   "execution_count": 163,
   "metadata": {},
   "outputs": [],
   "source": [
    "# 1. Write a function called square that takes a parameter named t, which is a turtle. \n",
    "# It should use the turtle to draw a square.\n",
    "# Write a function call that passes bob as an argument to square, and then run the program again.\n",
    "\n",
    "turtle.resetscreen()\n",
    "\n",
    "def square():\n",
    "    for i in range(4):\n",
    "        bob.fd(100)\n",
    "        bob.rt(90)\n",
    "        i+=1\n",
    "   \n",
    "square()"
   ]
  },
  {
   "cell_type": "code",
   "execution_count": 164,
   "metadata": {},
   "outputs": [],
   "source": [
    "# 2. Add another parameter, named length, to square. \n",
    "# Modify the body so length of the sides is length, \n",
    "# and then modify the function call to provide a second argument. \n",
    "# Run the program again. Test your program with a range of values for length.\n",
    "\n",
    "turtle.resetscreen()\n",
    "\n",
    "def square(length, sides):\n",
    "    for i in range(sides):\n",
    "        bob.fd(length)\n",
    "        bob.rt(360/sides)\n",
    "        i+=1\n",
    "   \n",
    "square(200, 4)"
   ]
  },
  {
   "cell_type": "code",
   "execution_count": 165,
   "metadata": {},
   "outputs": [],
   "source": [
    "# 3. Make a copy of square and change the name to polygon. \n",
    "# Add another parameter named n and modify the body \n",
    "# so it draws an n-sided regular polygon. \n",
    "# Hint: The exterior angles of an n-sided regular polygon \n",
    "# are 360/n degrees.\n",
    "\n",
    "turtle.resetscreen()\n",
    "\n",
    "def ploygon(length, sides):\n",
    "    for i in range(sides):\n",
    "        bob.fd(length)\n",
    "        bob.rt(360/sides)\n",
    "        i+=1\n",
    "   \n",
    "ploygon(100, 8)"
   ]
  },
  {
   "cell_type": "code",
   "execution_count": 166,
   "metadata": {},
   "outputs": [],
   "source": [
    "# 4. Write a function called circle that takes a turtle, t, \n",
    "# and radius, r, as parameters and that draws an approximate circle \n",
    "# by calling polygon with an appropriate length and number of sides. \n",
    "# Test your function with a range of values of r.\n",
    "# Hint: figure out the circumference of the circle and \n",
    "# make sure that length * n = circumference.\n",
    "\n",
    "turtle.resetscreen()\n",
    "\n",
    "import math\n",
    "\n",
    "def ploygon(length):\n",
    "    for i in range(115):\n",
    "        bob.fd(length)\n",
    "        bob.rt(math.pi)\n",
    "        i+=1\n",
    "        \n",
    "ploygon(6)"
   ]
  },
  {
   "cell_type": "code",
   "execution_count": 167,
   "metadata": {},
   "outputs": [],
   "source": [
    "# 5. Make a more general version of circle called arc that \n",
    "# takes an additional parameter angle, which determines \n",
    "# what fraction of a circle to draw. angle is in units of degrees, \n",
    "# so when angle=360, arc should draw a complete circle.\n",
    "\n",
    "turtle.resetscreen()\n",
    "\n",
    "import math\n",
    "\n",
    "def arc(length, angle):\n",
    "    for i in range((360//115)*length):\n",
    "        bob.fd(length)\n",
    "        bob.rt(math.pi)\n",
    "        i+=1\n",
    "        \n",
    "arc(6, 45)"
   ]
  },
  {
   "cell_type": "markdown",
   "metadata": {},
   "source": [
    "### 4.4 Encapsulation"
   ]
  },
  {
   "cell_type": "markdown",
   "metadata": {},
   "source": [
    "### 4.5 Generalization"
   ]
  },
  {
   "cell_type": "markdown",
   "metadata": {},
   "source": [
    "### 4.6 Interface design"
   ]
  },
  {
   "cell_type": "code",
   "execution_count": 168,
   "metadata": {},
   "outputs": [],
   "source": [
    "turtle.resetscreen()\n",
    "\n",
    "def ploygon(length, sides):\n",
    "    for i in range(sides):\n",
    "        bob.fd(length)\n",
    "        bob.rt(360/sides)\n",
    "        i+=1\n",
    "\n",
    "import math\n",
    "\n",
    "def circle(r, sides):\n",
    "    circumference = 2 * math.pi * r\n",
    "    length = circumference / sides\n",
    "    ploygon(length, sides)\n",
    "    \n",
    "circle(120, 60)"
   ]
  },
  {
   "cell_type": "markdown",
   "metadata": {},
   "source": [
    "### 4.7 Refactoring"
   ]
  },
  {
   "cell_type": "code",
   "execution_count": 169,
   "metadata": {},
   "outputs": [],
   "source": [
    "turtle.resetscreen()\n",
    "\n",
    "def ploygon(length, sides, angle):\n",
    "    for i in range(sides):\n",
    "        bob.fd(length)\n",
    "        bob.rt(360/sides)\n",
    "        i+=1\n",
    "\n",
    "import math\n",
    "\n",
    "def circle(r, sides, angle):\n",
    "    circumference = (2 * math.pi * r)\n",
    "    length = circumference/sides\n",
    "    ploygon(length, sides, angle)\n",
    "    \n",
    "circle(120, 60, 45)"
   ]
  },
  {
   "cell_type": "code",
   "execution_count": 170,
   "metadata": {},
   "outputs": [],
   "source": [
    "turtle.resetscreen()\n",
    "\n",
    "def arc(r, angle):\n",
    "    arc_length = 2 * math.pi * r * angle / 360\n",
    "    n = 40 #dividing the arc length into 'n' slices\n",
    "    step_length = arc_length / n\n",
    "    step_angle = angle / n\n",
    "    \n",
    "    for i in range(n):\n",
    "        bob.fd(step_length)\n",
    "        bob.lt(step_angle)\n",
    "\n",
    "arc(150, 180)"
   ]
  },
  {
   "cell_type": "markdown",
   "metadata": {},
   "source": [
    "### 4.8 A development plan"
   ]
  },
  {
   "cell_type": "markdown",
   "metadata": {},
   "source": [
    "### 4.9 docstring"
   ]
  },
  {
   "cell_type": "code",
   "execution_count": 171,
   "metadata": {},
   "outputs": [],
   "source": [
    "# docstring example\n",
    "\n",
    "def polyline(t, n, length, angle):\n",
    "    \"\"\"Draws n line segments with the given length and\n",
    "    angle (in degrees) between them.  t is a turtle.\n",
    "    \"\"\"    \n",
    "    for i in range(n):\n",
    "        t.fd(length)\n",
    "        t.lt(angle)"
   ]
  },
  {
   "cell_type": "markdown",
   "metadata": {},
   "source": [
    "### 4.10 Debugging"
   ]
  },
  {
   "cell_type": "markdown",
   "metadata": {},
   "source": [
    "### 4.11 Glossary"
   ]
  },
  {
   "cell_type": "markdown",
   "metadata": {},
   "source": [
    "### 4.12 Exercises"
   ]
  }
 ],
 "metadata": {
  "kernelspec": {
   "display_name": "Python 3",
   "language": "python",
   "name": "python3"
  },
  "language_info": {
   "codemirror_mode": {
    "name": "ipython",
    "version": 3
   },
   "file_extension": ".py",
   "mimetype": "text/x-python",
   "name": "python",
   "nbconvert_exporter": "python",
   "pygments_lexer": "ipython3",
   "version": "3.6.6"
  }
 },
 "nbformat": 4,
 "nbformat_minor": 2
}
